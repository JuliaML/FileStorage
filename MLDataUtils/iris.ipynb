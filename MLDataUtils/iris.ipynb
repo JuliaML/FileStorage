{
 "cells": [
  {
   "cell_type": "code",
   "execution_count": null,
   "metadata": {},
   "outputs": [],
   "source": [
    "using MLDataUtils, Plots\n",
    "pyplot(reuse=true)\n",
    "_mkpath(fname) = joinpath(dirname(@__FILE__()), fname) \n",
    "fnt = Plots.Font(\"ubuntu\",8,:hcenter,:vcenter,0.0, RGB{FixedPointNumbers.Normed{UInt8, 8}}(0.0,0.0,0.0))                                                                                    \n",
    "default(bg_outside = RGBA(1,1,1,0),\n",
    "        grid = false,\n",
    "        legendfont = fnt,\n",
    "        palette = :darktest,\n",
    "        size = (600, 400))"
   ]
  },
  {
   "cell_type": "code",
   "execution_count": null,
   "metadata": {},
   "outputs": [],
   "source": [
    "X, Y, fnames = load_iris(100);\n",
    "X = X[1:2,:]\n",
    "fnames = fnames[1:2] .* [\" [cm]\"]"
   ]
  },
  {
   "cell_type": "code",
   "execution_count": null,
   "metadata": {},
   "outputs": [],
   "source": [
    "plt = plot(xguide = fnames[1], yguide = fnames[2]) #size = (800, 600))\n",
    "for (lbl, idx) in labelmap(Y)\n",
    "    scatter!(plt, X[1,idx], X[2,idx], label = lbl) \n",
    "end\n",
    "Plots.svg(_mkpath(\"data\"))\n",
    "plt"
   ]
  },
  {
   "cell_type": "code",
   "execution_count": null,
   "metadata": {},
   "outputs": [],
   "source": [
    "θ = [1.15, -1.0, -3]"
   ]
  },
  {
   "cell_type": "code",
   "execution_count": null,
   "metadata": {},
   "outputs": [],
   "source": [
    "immutable LinearModel\n",
    "   θ::Vector{Float64} \n",
    "end\n",
    "\n",
    "(h::LinearModel)(X::AbstractMatrix) = X' * h.θ\n",
    "(h::LinearModel)(x::AbstractVector) = dot(x, h.θ)"
   ]
  },
  {
   "cell_type": "code",
   "execution_count": null,
   "metadata": {},
   "outputs": [],
   "source": [
    "h = LinearModel(θ)"
   ]
  },
  {
   "cell_type": "code",
   "execution_count": null,
   "metadata": {},
   "outputs": [],
   "source": [
    "cnt = contour!(deepcopy(plt), 4:0.5:7, 2:0.5:5, (x1, x2) -> h([x1, x2, 1]),\n",
    "         fill=true, levels=-7:7, fillalpha=0.5, color=:bluesreds)\n",
    "Plots.svg(_mkpath(\"samplemodel\"))\n",
    "cnt"
   ]
  },
  {
   "cell_type": "markdown",
   "metadata": {
    "scrolled": false
   },
   "source": [
    "using Interact\n",
    "gr()\n",
    "\n",
    "@manipulate for θ₁ = 0.5:0.05:2,\n",
    "                θ₂ = -3.0:0.05:-1.0,\n",
    "                θ₃ = -3:0.05:0\n",
    "    h = LinearModel([θ₁, θ₂, θ₃])\n",
    "    contour!(deepcopy(plt), 4:0.5:7, 2:0.5:5, (x1, x2) -> h([x1, x2, 1]),\n",
    "             #fill=true, levels=-7:7, fillalpha=0.5, color=:bluesreds)\n",
    "             colorbar=false, zlims=(-6,6), levels=3, color=:greens)#:bluesreds)\n",
    "end"
   ]
  },
  {
   "cell_type": "code",
   "execution_count": null,
   "metadata": {
    "collapsed": true
   },
   "outputs": [],
   "source": [
    "# offset = intercept_fit ? -(minimizer(details(fit))[3] * predmodel(fit).bias) / minimizer(details(fit))[2] : 0.\n",
    "# slope = -minimizer(details(fit))[1] / minimizer(details(fit))[2]"
   ]
  }
 ],
 "metadata": {
  "kernelspec": {
   "display_name": "Julia 0.5.0",
   "language": "julia",
   "name": "julia-0.5"
  },
  "language_info": {
   "file_extension": ".jl",
   "mimetype": "application/julia",
   "name": "julia",
   "version": "0.5.0"
  }
 },
 "nbformat": 4,
 "nbformat_minor": 1
}
