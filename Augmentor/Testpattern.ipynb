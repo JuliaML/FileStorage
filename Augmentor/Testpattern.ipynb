{
 "cells": [
  {
   "cell_type": "code",
   "execution_count": null,
   "metadata": {
    "collapsed": true
   },
   "outputs": [],
   "source": [
    "using Images, Luxor, Colors\n",
    "_mkpath(fname) = joinpath(dirname(@__FILE__()), fname) "
   ]
  },
  {
   "cell_type": "code",
   "execution_count": null,
   "metadata": {
    "collapsed": true
   },
   "outputs": [],
   "source": [
    "for (i, str) in enumerate([\"testpattern.png\",\"testpattern_small.png\", \"testpattern_small_noalpha.png\"])\n",
    "    if i > 1\n",
    "        Drawing(280,210, _mkpath(str))\n",
    "        origin()\n",
    "        scale(0.7,.7)\n",
    "    else\n",
    "        Drawing(400,300, _mkpath(str))\n",
    "        origin()\n",
    "    end\n",
    "    i > 2 ? background(\"#F3F6F6\") : background(RGBA(1, 1, 1, 0))\n",
    "    setcolor(RGBA(1, 1, 1, 1))\n",
    "    fontface(\"Agenda-Black\")\n",
    "\n",
    "    cols = reshape(colormap(\"RdBu\", 35), (7,5))\n",
    "    for i = 1:7, j = 1:5\n",
    "        if (i%2 == 0) $ (j%2 == 0)\n",
    "            cols[i,j] = colorant\"white\"\n",
    "        end\n",
    "    end\n",
    "\n",
    "    tiles = Tiler(400,300, 5, 7, margin=20)\n",
    "    for (pos, n) in tiles\n",
    "        #setopacity(0.5)\n",
    "        sethue(cols[n])\n",
    "        box(pos, tiles.tilewidth, tiles.tileheight, :fillpreserve)\n",
    "        sethue(\"white\")\n",
    "        strokepath()\n",
    "        i,j = ind2sub((7,5), n)\n",
    "        if (i%2 == 0) $ (j%2 == 0)\n",
    "            setcolor(\"lightgrey\")\n",
    "        else\n",
    "            setcolor(\"white\")\n",
    "        end\n",
    "        fontsize(10)\n",
    "        textcentred(string(n), pos + Point(0, 5))\n",
    "    end\n",
    "    fontsize(55)\n",
    "    setcolor(\"darkgrey\")\n",
    "    text(\"Augmentor\", O+Point(0,15), halign=:center, halign=:center)\n",
    "    setcolor(\"black\")\n",
    "    ngon(O+Point(-110,0), 100, 3, 0, :clip)\n",
    "    text(\"Augmentor\", O+Point(0,15), halign=:center, halign=:center)\n",
    "    clipreset()\n",
    "    ngon(O+Point(110,0), 100, 3, deg2rad(180), :clip)\n",
    "    text(\"Augmentor\", O+Point(0,15), halign=:center, halign=:center)\n",
    "    clipreset()\n",
    "    sethue(\"black\")\n",
    "    box(O, 370, 270, :stroke)\n",
    "    cropmarks(O, 370, 270)\n",
    "\n",
    "    sethue(\"black\")\n",
    "    setline(3)\n",
    "    ngon(O+Point(-110,0), 100, 3, 0, :stroke)\n",
    "    ngon(O+Point(110,0), 100, 3, deg2rad(180), :stroke)\n",
    "    arrow(O+Point(0,-20), 100, pi*7/6, -pi/7, arrowheadlength=15, arrowheadangle=pi/6, linewidth=3)\n",
    "    setdash(\"longdashed\")\n",
    "    line(O-Point(0,100), O+Point(0,100), :stroke)\n",
    "\n",
    "    finish()\n",
    "    nothing\n",
    "    #preview()\n",
    "end"
   ]
  },
  {
   "cell_type": "code",
   "execution_count": null,
   "metadata": {
    "collapsed": true
   },
   "outputs": [],
   "source": [
    "Drawing(350,350, _mkpath(\"misc/logo2.png\"))\n",
    "origin()\n",
    "background(\"white\")\n",
    "\n",
    "img = readpng(_mkpath(\"misc/augmentor.png\"))\n",
    "\n",
    "fontsize(35)\n",
    "setcolor(Gray(0.6))\n",
    "#text(\"Python\", O+Point(-100,10), valign=:center, halign=:center)\n",
    "#text(\"Julia\", O+Point(100,10), valign=:center, halign=:center)\n",
    "\n",
    "fontsize(60)\n",
    "setcolor(\"black\")\n",
    "\n",
    "fontface(\"droidsans\")\n",
    "#text(\"Augmentor\", O+Point(0,150), halign=:center, halign=:center)\n",
    "gsave()\n",
    "scale(0.425, 0.425)\n",
    "placeimage(img, -img.width/2, 310-img.height/2, 1)\n",
    "grestore()\n",
    "\n",
    "\n",
    "sethue(\"black\")\n",
    "setline(4)\n",
    "ngon(O+Point(-110,0), 100, 3, 0, :stroke)\n",
    "ngon(O+Point(110,0), 100, 3, deg2rad(180), :stroke)\n",
    "arrow(O+Point(0,-20), 100, pi*7/6, -pi/7, arrowheadlength=15, arrowheadangle=pi/6, linewidth=3)\n",
    "setdash(\"longdashed\")\n",
    "line(O-Point(0,100), O+Point(0,100), :stroke)\n",
    "\n",
    "\n",
    "finish()\n",
    "nothing\n",
    "#preview()"
   ]
  }
 ],
 "metadata": {
  "kernelspec": {
   "display_name": "Julia 0.5.0",
   "language": "julia",
   "name": "julia-0.5"
  },
  "language_info": {
   "file_extension": ".jl",
   "mimetype": "application/julia",
   "name": "julia",
   "version": "0.5.0"
  }
 },
 "nbformat": 4,
 "nbformat_minor": 1
}
